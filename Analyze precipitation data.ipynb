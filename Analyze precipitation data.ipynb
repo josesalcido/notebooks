{
 "cells": [
  {
   "cell_type": "markdown",
   "metadata": {
    "id": "94a4737b-9c99-404e-8758-67beb8b01c9e"
   },
   "source": [
    "# Analyze precipitation data \n",
    "\n",
    "This notebook shows you the basic steps when analyzing precipitation data in a notebook. You will learn how to load a data file to a notebook, access this data file in Object Storage, and then load the content of the data file into a `pandas` DataFrame. Furthermore, you will learn how to explore and analyze the data in the DataFrame and how to vizualize your results by using the `matplotlib` library. \n",
    "\n",
    "This notebook runs on Python 2 and 3.\n",
    "\n",
    "## Table of contents\n",
    "1. [Get data](#data_set)\n",
    "\n",
    "2. [Load data](#load_data)\n",
    "\n",
    "3. [Access data](#access_data)\n",
    "\n",
    "4. [Explore data](#explore_data)\n",
    "\n",
    "5. [Plot the results](#plot_data)\n",
    "\n",
    "6. [Download the notebook](#download)\n",
    "\n",
    "7. [Summary](#summary)\n"
   ]
  },
  {
   "cell_type": "markdown",
   "metadata": {
    "id": "8f781326-5e3b-41be-bfba-fd185d48a8ae"
   },
   "source": [
    "<a id=\"data_set\"></a> \n",
    "## 1. Get data\n",
    "In this notebook, you will explore and analyze historical annual precipitation data.\n",
    "\n",
    "The raw precipitation data set is from <a href=\"http://data.un.org/\" target=\"_blank\" rel=\"noopener no referrer\">UNData</a>, an Internet search engine for statistical databases provided by the United Nations Statistics Division. You will use a curated version of this data set in this sample. The precipitation measurements are in million cubic meters.\n",
    "\n",
    "To get the precipitation data set:\n",
    "1. Click <a href=\"https://cdsax.cloudant.com/public-samples/test/precipitation.csv\" target=\"_blank\" rel=\"noopener no referrer\">annual precipitation data set</a> to download the data in CSV format.   \n",
    "    Note: If you use Safari, right-click the link and select **Download Linked File**. The CSV file is downloaded to your `Download` folder.              \n",
    "1. Save the CSV file to your computer.\n",
    "\n"
   ]
  },
  {
   "cell_type": "markdown",
   "metadata": {
    "id": "125767d7-53f2-4865-a5d2-8f3cc32aaddf"
   },
   "source": [
    "<a id=\"load_data\"></a>\n",
    "## 2. Load data\n",
    "You can add the CSV file that you downloaded to this notebook by clicking the **Data** icon on the notebook action bar and dragging the file to the `Data` pane in the notebook. \n",
    "The data file is listed on the `Data` pane and is saved in the Object Storage instance associated with your project.\n",
    "\n",
    "In the next step, you will learn how to access files in Object Storage."
   ]
  },
  {
   "cell_type": "markdown",
   "metadata": {
    "id": "cd69adbf-b664-4aa7-8699-5413251e9094"
   },
   "source": [
    "<a id=\"access_data\"></a> \n",
    "## 3. Access data \n",
    "\n",
    "**<a href=\"http://pandas.pydata.org/\" target=\"_blank\" rel=\"noopener no referrer\">pandas</a>** is a useful Python package for managing structured data. The two primary data structures of pandas are <a href=\"http://pandas-docs.github.io/pandas-docs-travis/dsintro.html#series\" target=\"_blank\" rel=\"noopener no referrer\">`Series`</a> (1-dimensional) and <a href=\"http://pandas-docs.github.io/pandas-docs-travis/dsintro.html#dataframe\" target=\"_blank\" rel=\"noopener no referrer\">`DataFrame`</a> (2-dimensional).\n",
    "\n",
    "In the following steps, you will load the `precipitation.csv` file into a DataFrame in memory.\n",
    "\n",
    "To run code cells in a notebook, click Run Cell (**&#9658;**) in the notebook toolbar.  While the code in the cell is running, a `[*]` appears next to the cell. After the code has run, the `[*]` is replaced by a number indicating that the code cell is the *N*th cell to run in the notebook."
   ]
  },
  {
   "cell_type": "markdown",
   "metadata": {
    "id": "e7962feb-624f-422d-b164-3feea1f2abe9"
   },
   "source": [
    "### Insert code to access the data source\n",
    "\n",
    "To add the code to access the `precipitation.csv` file which is stored in Object Storage, click the next code cell and select **Insert to code>pandas DataFrame** on the data file that you loaded in the `Data` pane in the notebook.\n",
    "\n",
    "This function inserts the setup and data loading code for you. The setup code includes importing the required packages and defining a helper function. The helper function includes the Object Storage credentials to access the `precipitation.csv` file. Then, the data in the `precipitation.csv` file is loaded into a `pandas DataFrame`.\n"
   ]
  },
  {
   "cell_type": "markdown",
   "metadata": {
    "id": "ff92295c-bb37-48b7-95cb-1d5c0b64cd05"
   },
   "source": [
    "<div class=\"alert alert-block alert-info\">Note: The DataFrame that is created for you and filled with data is given a generic name. Rename the DataFrame to `precipitation_df` and run the code cell to proceed.</div>"
   ]
  },
  {
   "cell_type": "code",
   "execution_count": null,
   "metadata": {
    "id": "0e4dd118-5ef1-4949-9ebd-49d1b70bbb58"
   },
   "outputs": [],
   "source": []
  },
  {
   "cell_type": "markdown",
   "metadata": {
    "id": "d4c75518-b48c-42dd-ad38-82ec447261d4"
   },
   "source": [
    "<a id=\"explore_data\"></a> \n",
    "## 4. Explore data\n",
    "\n",
    "Now that your data is in memory, you can begin to explore and manipulate it.\n",
    "\n",
    "Show the first five and the last five rows of the data by using the `head()` and `tail()` methods.  Run each code cell:"
   ]
  },
  {
   "cell_type": "code",
   "execution_count": null,
   "metadata": {
    "id": "45568921-8519-4588-89d3-a97479121b55"
   },
   "outputs": [],
   "source": [
    "precipitation_df.head()"
   ]
  },
  {
   "cell_type": "code",
   "execution_count": null,
   "metadata": {
    "id": "9587c235-e313-4bc9-9af3-565bfd281b45",
    "scrolled": true
   },
   "outputs": [],
   "source": [
    "precipitation_df.tail()"
   ]
  },
  {
   "cell_type": "markdown",
   "metadata": {
    "id": "a3f4c8f1-d697-4a16-a1fb-c8fae1ceee3a"
   },
   "source": [
    "Each row in the table lists:\n",
    "\n",
    "* The country or region where the measurements were taken\n",
    "* The annual precipitation for 1990, and for the years 1995 to 2009\n",
    "\n",
    "By using the `DataFrame` API, you can list all countries or areas for which precipitation measurements exist. Run the following cell to list these countries:"
   ]
  },
  {
   "cell_type": "code",
   "execution_count": null,
   "metadata": {
    "id": "67e11c3e-4cc6-4d48-89bb-ef5a1de3758b",
    "scrolled": true
   },
   "outputs": [],
   "source": [
    "precipitation_df['Country or Area'].values"
   ]
  },
  {
   "cell_type": "markdown",
   "metadata": {
    "id": "8d23eea9-f29c-46f9-92a2-a36e0f980548"
   },
   "source": [
    "Having the names of the countries or areas as a column comes in handy, but it would be more useful to have the names as an index to the rows. To manipulate the `DataFrame` in this way, run the next cell:"
   ]
  },
  {
   "cell_type": "code",
   "execution_count": null,
   "metadata": {
    "id": "fd8f3477-6e75-4c18-bd7d-f34ff98a3c4b"
   },
   "outputs": [],
   "source": [
    "precipitation_df = precipitation_df.set_index(precipitation_df[\"Country or Area\"])\n",
    "precipitation_df.drop(['Country or Area'], axis=1, inplace=True)\n",
    "precipitation_df.head()"
   ]
  },
  {
   "cell_type": "markdown",
   "metadata": {
    "id": "8b2cd0a8-c4d8-4063-bc2b-55fdf65138dd"
   },
   "source": [
    "<a id=\"plot_data\"></a> \n",
    "## 5. Plot the results\n",
    "\n",
    "When you work in notebooks, you can decide how to present your anlysis results and derived information. So far, you have used normal print functions, which are informative. However, you can also show your results in a visual way by using the popular [`matplotlib`](http://matplotlib.org/) package to create plots.\n",
    "\n",
    "First, render your results as inline charts:"
   ]
  },
  {
   "cell_type": "code",
   "execution_count": null,
   "metadata": {
    "id": "5551380a-6ae1-4be5-876f-6a543c54d961"
   },
   "outputs": [],
   "source": [
    "%matplotlib inline "
   ]
  },
  {
   "cell_type": "markdown",
   "metadata": {
    "id": "a4b65dca-be68-411e-a61e-f1086860e592"
   },
   "source": [
    "Now use `pandas` wrappers around the `matplotlib` routines. Because you changed the index of the table rows, you can access the precipitation measurements of a country or area by name. For example, run the following cell to plot the annual precipitation of Germany:"
   ]
  },
  {
   "cell_type": "code",
   "execution_count": null,
   "metadata": {
    "id": "8eaf2d5d-b3de-4e60-a596-04145a8cf325"
   },
   "outputs": [],
   "source": [
    "germany = precipitation_df.loc['Germany']\n",
    "ax = germany.plot(kind='bar', figsize=(8,5), title=\"Precipitation of %s between 1990 to 2009\" % germany.name)\n",
    "ax.set_ylabel(\"Precipitation (million cubic meters)\")\n",
    "ax.set_xlabel(\"Years\");"
   ]
  },
  {
   "cell_type": "markdown",
   "metadata": {
    "id": "d722e8ec-7003-4aea-9920-7d314b77440d"
   },
   "source": [
    "Another possibility is to import the `matplotlib` library and use it directly for plotting the precipitation values in France:"
   ]
  },
  {
   "cell_type": "code",
   "execution_count": null,
   "metadata": {
    "id": "aca707bd-0acd-4954-a0a7-9c0abb18f5a9"
   },
   "outputs": [],
   "source": [
    "import matplotlib.pyplot as plt, numpy as np\n",
    "\n",
    "france = precipitation_df.loc['France']\n",
    "years = france.index\n",
    "index = np.arange(len(years))  \n",
    "plt.figure(figsize=(8,5))\n",
    "bar_width = 0.5\n",
    "plt.bar(index, france, bar_width, color='b')\n",
    "plt.xlabel(\"Year\")\n",
    "plt.ylabel(\"Precipitation (million cubic meters)\")\n",
    "plt.title(\"Precipitation of %s between 1990 to 2009\" % france.name, y=1.08)\n",
    "plt.xticks(index + bar_width, years, rotation=90)\n",
    "plt.show()"
   ]
  },
  {
   "cell_type": "markdown",
   "metadata": {
    "id": "aaf8f932-396c-4594-a9db-900107e92558"
   },
   "source": [
    "### Plot the countries or areas with the highest total precipitation\n",
    "\n",
    "To get a list of the countries with the highest total precipitation, you have to compute the sum of all annual precipitation. You can do this by using the `pandas` `sum()` method. This method adds an  additional column called SUM, which contains the sums of the annual precipitation values to the `precipitation_df` DataFrame."
   ]
  },
  {
   "cell_type": "code",
   "execution_count": null,
   "metadata": {
    "id": "b9390ad3-66ff-496a-bdc7-f64355143088"
   },
   "outputs": [],
   "source": [
    "precipitation_df[\"SUM\"] = precipitation_df.sum(axis=1)"
   ]
  },
  {
   "cell_type": "markdown",
   "metadata": {
    "id": "f3ddfec9-be7b-42e7-bc14-c135cd64137c"
   },
   "source": [
    "Next, sort the DataFrame by total precipitation and print the top five countries or areas with the highest total precipitation:"
   ]
  },
  {
   "cell_type": "code",
   "execution_count": null,
   "metadata": {
    "id": "e4fa2828-efb2-4b78-83a2-40051e0d68f0"
   },
   "outputs": [],
   "source": [
    "precipitation_sorted_df = precipitation_df.sort_values(by=\"SUM\",ascending=False)\n",
    "top5_sums = pd.Series(precipitation_sorted_df[\"SUM\"].head(5))\n",
    "top5_sums"
   ]
  },
  {
   "cell_type": "markdown",
   "metadata": {
    "id": "891d5b66-e228-48a7-b6c3-3a7709c2a0a5"
   },
   "source": [
    "Now, plot the top five countries next to each another in a line graph for a better comparison of the recordings:"
   ]
  },
  {
   "cell_type": "code",
   "execution_count": null,
   "metadata": {
    "id": "4439e2d9-16cf-421e-be76-4d27fad339a3"
   },
   "outputs": [],
   "source": [
    "top5_bars = precipitation_sorted_df[years][0:5].transpose()\n",
    "ax = top5_bars.plot(figsize=(10,8), marker='o', linestyle='-', title=\"Top 5 Countries with highest Precipitation\")\n",
    "ax.set_xlabel(\"Years\")\n",
    "ax.set_ylabel(\"Precipitation (million cubic meters)\");"
   ]
  },
  {
   "cell_type": "markdown",
   "metadata": {
    "id": "cb218d72-a763-4110-b63d-82dc4a5207a8"
   },
   "source": [
    "Finally, compare the annual precipitation for the top five countries. China has the highest annual precipitation, followed by Colombia. The line graph also shows that some values are missing, which makes comparing measurements difficult. \n",
    "\n",
    "To show the total precipitation for the top five countries in relation to the total precipitation for all countries over the entire time period, use a pie chart. Run the next code cell to create a pie chart by using the `matplotlib` library:"
   ]
  },
  {
   "cell_type": "code",
   "execution_count": null,
   "metadata": {
    "id": "d852598e-4a1d-45b3-8c06-ecc87c22bec1"
   },
   "outputs": [],
   "source": [
    "precipitation_sums = top5_sums\n",
    "other_sums = precipitation_sorted_df[\"SUM\"][5:].sum()\n",
    "precipitation_sums[\"Other\"] = other_sums\n",
    "\n",
    "plt.axis('equal')\n",
    "plt.title(\"Annual precipitation percentage\",y=1.08)\n",
    "plt.pie(\n",
    "    precipitation_sums,\n",
    "    labels=precipitation_sums.index,\n",
    "    colors=['blue', 'green', 'red', 'turquoise', 'magenta','yellow'],\n",
    "    autopct=\"%1.2f%%\",\n",
    "    radius=1.25);"
   ]
  },
  {
   "cell_type": "markdown",
   "metadata": {
    "id": "3ef7c524-e803-4150-966c-395c71f03fa8"
   },
   "source": [
    "The pie chart shows you that nearly a quarter of the precipitation fell in China, and that more than  half of the precipitation fell in the five countries with the highest annual precipitation."
   ]
  },
  {
   "cell_type": "markdown",
   "metadata": {
    "id": "56594bf2-af0a-42da-b65e-5418fe097030"
   },
   "source": [
    "###  Plot the countries with a negative annual precipitation trend\n",
    "\n",
    "Going through each row in the DataFrame and looking at the figures is not a viable solution to determine trends. Plotting a bar chart for each country or area is possible, but inconvenient. \n",
    "\n",
    "One way to determine trends in annual precipitation is to fit a line to the data points. Run the next code cell to create a bar chart showing the annual precipitation trend for Chile:"
   ]
  },
  {
   "cell_type": "code",
   "execution_count": null,
   "metadata": {
    "id": "1ceafaf9-b165-4053-aeee-7457d8290bca"
   },
   "outputs": [],
   "source": [
    "chile = precipitation_sorted_df.loc['Chile'][:-1]\n",
    "years = chile.index\n",
    "chile.plot(kind='bar', figsize=(8,5), title=\"Precipitation of %s between 1990 to 2009\" % chile.name)\n",
    "plt.xlabel(\"Year\")\n",
    "plt.ylabel(\"Precipitation (million cubic meters)\");"
   ]
  },
  {
   "cell_type": "markdown",
   "metadata": {
    "id": "dbc4d7b2-1bf7-4b01-96fb-67afbe4bc464"
   },
   "source": [
    "A line of best fit is a straight line that is the best approximation of the given set of data.\n",
    "The `polyfit()` function fits a line through data points. Because the DataFrame you are using is two-dimentional, it returns two values, the slope and the intercept. To determine whether the trend is positive or negative, you need only the slope. And naturally, you have to exclude any data points that correpond to the value 0.0. \n",
    "\n",
    "Run the next cells to determine and line plot the trend for Chile:"
   ]
  },
  {
   "cell_type": "code",
   "execution_count": null,
   "metadata": {
    "id": "4e8e7077-bdfb-495e-ae1a-c92d43497065"
   },
   "outputs": [],
   "source": [
    "index = chile[chile>0.0].index\n",
    "fit = np.polyfit(index.astype('int'), chile[index].values,1)\n",
    "print(\"slope: \" + str(fit[0]))"
   ]
  },
  {
   "cell_type": "code",
   "execution_count": null,
   "metadata": {
    "id": "37353fc1-e4d6-4c4c-9790-0479228f52ba"
   },
   "outputs": [],
   "source": [
    "plt.plot(index, chile[index],'.')\n",
    "plt.plot(index, fit[0]*index.astype('int') + fit[1], '-', color='red')\n",
    "plt.title(\"Precipitation Trend for Chile\")\n",
    "plt.xlabel(\"Year\")\n",
    "plt.ylabel(\"Precipitation (million cubic meters)\")\n",
    "plt.show()"
   ]
  },
  {
   "cell_type": "markdown",
   "metadata": {
    "id": "12eef492-5fdf-4254-b144-487b7521d075"
   },
   "source": [
    "For Chile, the line plot shows a positive trend in annual precipitation, despite the fact that during the last couple of years the annual precipitation decreased. \n",
    "\n",
    "The next cells show you how to determine the precipitation trends for 91 countries.\n",
    "Run the next code cell to define the `compute_slope()` method to compute the slope of a fitted line  between given points:"
   ]
  },
  {
   "cell_type": "code",
   "execution_count": null,
   "metadata": {
    "id": "554f26b1-5c63-4443-b801-d8e0f9712a37"
   },
   "outputs": [],
   "source": [
    "def compute_slope(row):\n",
    "    \"\"\" This method computes the slope of a fittet line for given data points. \n",
    "    For arguments containing less than two valid data points it returns a NaN.\"\"\"\n",
    "    slope = np.nan\n",
    "    years = row[row>0.0].index\n",
    "    if(len(years)>=2):\n",
    "        fit = np.polyfit(years.astype('int'), row[years].values,1)\n",
    "        slope = fit[0]\n",
    "    return slope"
   ]
  },
  {
   "cell_type": "markdown",
   "metadata": {
    "id": "945d05d1-dd47-49af-8a80-6247b48bee9d"
   },
   "source": [
    "After defining the `compute_slope()` method, use the `pandas` `apply()` method to compute the slope for each row in the DataFrame and add the computed slope value to a new column called TREND:"
   ]
  },
  {
   "cell_type": "code",
   "execution_count": null,
   "metadata": {
    "id": "76d190cf-9d6b-4539-8674-88915553fb87"
   },
   "outputs": [],
   "source": [
    "precipitation_df[\"TREND\"] = precipitation_sorted_df[years].apply(compute_slope, axis=1)\n",
    "precipitation_df.head()"
   ]
  },
  {
   "cell_type": "markdown",
   "metadata": {
    "id": "dcb41725-a42a-4732-8882-c59fdc416179"
   },
   "source": [
    "If the value is positive, the annual precipitation trend for the country is positive. If the value is negative, the annual precipitation trend is negative. Values near zero indicate a stable condition. \n",
    "\n",
    "To determine the countries with a negative precipitation trend, find the rows in the DataFrame with a negative value in the TREND column:"
   ]
  },
  {
   "cell_type": "code",
   "execution_count": null,
   "metadata": {
    "id": "c6f6bd41-d48e-4bd4-bd8d-4e0c1f46d711"
   },
   "outputs": [],
   "source": [
    "negative_trends = precipitation_df[precipitation_df[\"TREND\"]<0.0]\n",
    "negative_trends.index"
   ]
  },
  {
   "cell_type": "markdown",
   "metadata": {
    "id": "a1c95d51-9110-4365-9da0-a6ecc1f8893f"
   },
   "source": [
    "<a id=\"download\"></a>\n",
    "## 6. Download the notebook\n",
    "\n",
    "After you have finished your analysis, you can download the notebook and share your results with our users.\n",
    "\n",
    "To download your note, click **File** and then **Download as** from the notebook menu bar. You can download your notebook to your local file system in various formats."
   ]
  },
  {
   "cell_type": "markdown",
   "metadata": {
    "id": "66ffc82b-468d-4e70-bd2e-56bb236845b6"
   },
   "source": [
    "<a id=\"summary\"></a>\n",
    "## Summary\n",
    "\n",
    "In this sample, you learned the basic tools for working with notebooks. You learned how to use the preinstalled `pandas` library to explore and analyze precipitation data to gain insights about the distribution of precipitation in 91 countries and detect trends. You learned to use the `matplotlib` libraries to visualize your results in different ways, for example as bar charts, pie charts, and line graphs. "
   ]
  },
  {
   "cell_type": "markdown",
   "metadata": {
    "id": "6eea44ab-b410-4376-a317-2b8e16abcd2c"
   },
   "source": [
    "### Resources\n",
    "\n",
    "<a href=\"http://learnpythonthehardway.org/book/\" target=\"_blank\" rel=\"noopener no referrer\">Learn Python the Hard Way</a><br/> \n",
    "<a href=\"https://www.python.org/\" target=\"_blank\" rel=\"noopener no referrer\">Python Programming Language</a><br/> \n",
    "<a href=\"http://nbviewer.ipython.org/github/ipython/ipython/blob/2.x/examples/Notebook/Index.ipynb\" target=\"_blank\" rel=\"noopener no referrer\">IPython Notebook</a><br/> \n",
    "<a href=\"http://jupyter.readthedocs.org/en/latest/\" target=\"_blank\" rel=\"noopener no referrer\">Jupyter Notebook</a><br/> \n",
    "<a href=\"https://github.com/ipython/ipython/wiki/A-gallery-of-interesting-IPython-Notebooks\" target=\"_blank\" rel=\"noopener no referrer\">A gallery of interesting Notebooks</a><br/> \n",
    "\n",
    "Check out these interesting tutorials on YouTube:\n",
    "\n",
    "<a href=\"https://www.youtube.com/watch?v=TSsSWuhBpmY\" target=\"_blank\" rel=\"noopener no referrer\">PyData 2015 - Introduction to Pandas</a>\n",
    "\n",
    "<a href=\"https://www.youtube.com/watch?v=wAwQ-noyB98\" target=\"_blank\" rel=\"noopener no referrer\">Matplotlib Python Tutorial</a>"
   ]
  },
  {
   "cell_type": "markdown",
   "metadata": {
    "id": "f0b2f262-ce0d-4484-b8bb-743bd6792411"
   },
   "source": [
    "### Author\n",
    "Sven Hafeneger is a member of the Data Science Experience development team at IBM Analytics in Germany. He holds a M.Sc. in Bioinformatics and is passionate about data analysis, machine learning and the Python ecosystem for data science. "
   ]
  },
  {
   "cell_type": "markdown",
   "metadata": {
    "collapsed": true,
    "id": "51680679-2939-40ae-a5d0-069433ec13dd"
   },
   "source": [
    "Copyright © 2017, 2018 IBM. This notebook and its source code are released under the terms of the MIT License."
   ]
  },
  {
   "cell_type": "markdown",
   "metadata": {
    "id": "e26ff982-9ec1-4950-a956-cb6b572eef0e"
   },
   "source": [
    "<div style=\"background:#F5F7FA; height:110px; padding: 2em; font-size:14px;\">\n",
    "<span style=\"font-size:18px;color:#152935;\">Love this notebook? </span>\n",
    "<span style=\"font-size:15px;color:#152935;float:right;margin-right:40px;\">Don't have an account yet?</span><br>\n",
    "<span style=\"color:#5A6872;\">Share it with your colleagues and help them discover the power of Watson Studio!</span>\n",
    "<span style=\"border: 1px solid #3d70b2;padding:8px;float:right;margin-right:40px; color:#3d70b2;\"><a href=\"https://ibm.co/wsnotebooks\" target=\"_blank\" style=\"color: #3d70b2;text-decoration: none;\">Sign Up</a></span><br>\n",
    "</div>"
   ]
  }
 ],
 "metadata": {
  "kernelspec": {
   "display_name": "Python 3.7",
   "language": "python",
   "name": "python3"
  },
  "language_info": {
   "codemirror_mode": {
    "name": "ipython",
    "version": 3
   },
   "file_extension": ".py",
   "mimetype": "text/x-python",
   "name": "python",
   "nbconvert_exporter": "python",
   "pygments_lexer": "ipython3",
   "version": "3.7.9"
  }
 },
 "nbformat": 4,
 "nbformat_minor": 1
}
