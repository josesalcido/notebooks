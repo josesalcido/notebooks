{
 "cells": [
  {
   "cell_type": "markdown",
   "metadata": {},
   "source": [
    "# Scala example using Spark SQL over Cloudant as a source\n",
    "\n",
    "This sample notebook is written in Scala and expects the Scala 2.10 runtime. Make sure the kernel is started and connected when executing this notebook.\n",
    "\n",
    "The data source for this example can be found at: http://examples.cloudant.com/crimes/. Replicate the database into your own Cloudant account before you execute this script.\n",
    "\n",
    <video src="http://ibmtvdemo.edgesuite.net/software/cloudant/learning-center/sql-cloudant-connector-Scala-notebook.mp4" width="640" height="480" controls></video>
   ]
  },
  {
   "cell_type": "markdown",
   "metadata": {},
   "source": [
    "## 1. Work with the Spark Context\n",
    "\n",
    "A Spark Context handle sc is available with every notebook create in the Spark Service. Use it to understand the Spark version used, the environment settings, \n",
    "and create a Spark SQL Context object off of it."
   ]
  },
  {
   "cell_type": "code",
   "execution_count": null,
   "metadata": {
    "collapsed": true
   },
   "outputs": [],
   "source": [
    "val sqlContext = new org.apache.spark.sql.SQLContext(sc)"
   ]
  },
  {
   "cell_type": "markdown",
   "metadata": {},
   "source": [
    "## 2. Work with a Cloudant database\n",
    "\n",
    "A Dataframe object can be created directly from a Cloudant database. To configure the database as source, pass these options:\n",
    "\n",
    "1 - package name that provides the classes (like CloudantDataSource) implemented in the connector to extend BaseRelation. For the Cloudant Spark connector this will be org.apache.bahir.cloudant\n",
    "\n",
    "2 - cloudant.host parameter to pass the Cloudant account name\n",
    "\n",
    "3 - cloudant.user parameter to pass the Cloudant user name\n",
    "\n",
    "4 - cloudant.password parameter to pass the Cloudant account password\n",
    "\n",
    "5 - the database to load"
   ]
  },
  {
   "cell_type": "code",
   "execution_count": null,
   "metadata": {
    "collapsed": true
   },
   "outputs": [],
   "source": [
    "val cloudantdata = sqlContext.read.format(\"org.apache.bahir.cloudant\").\n",
    "option(\"cloudant.host\",\"xxxxxx.cloudant.com\").\n",
    "option(\"cloudant.username\",\"xxxxxx\").\n",
    "option(\"cloudant.password\",\"xxxxxx\").\n",
    "option(\"schemaSampleSize\", \"-1\").\n",
    "load(\"crimes\")"
   ]
  },
  {
   "cell_type": "markdown",
   "metadata": {},
   "source": [
    "## 3. Work with a Dataframe\n",
    "\n",
    "At this point all transformations and functions should behave as specified with Spark SQL. (http://spark.apache.org/sql/)"
   ]
  },
  {
   "cell_type": "code",
   "execution_count": null,
   "metadata": {},
   "outputs": [],
   "source": [
    "# This code prints the schema and a record count\n",
    "cloudantdata.printSchema"
   ]
  },
  {
   "cell_type": "code",
   "execution_count": null,
   "metadata": {
    "collapsed": true
   },
   "outputs": [],
   "source": [
    "# This code displays the values of the naturecode field\n",
    "val resultsDF = cloudantdata.select(\"properties.naturecode\")\n",
    "resultsDF.show()"
   ]
  },
  {
   "cell_type": "code",
   "execution_count": null,
   "metadata": {
    "collapsed": true
   },
   "outputs": [],
   "source": [
    "# This code filters the data to just those records with a naturecode of \"DISTRB\", and then displays that data\n",
    "val disturbDF = cloudantdata.filter(cloudantdata.col(\"properties.naturecode\").startsWith(\"DISTRB\"))\n",
    "disturbDF.show()"
   ]
  },
  {
   "cell_type": "code",
   "execution_count": null,
   "metadata": {
    "collapsed": true
   },
   "outputs": [],
   "source": [
    "# This code writes the filtered data to a Cloudant database called crimes_filtered. \n",
    "# If the Cloudant database exists, the documents will be added to the database. If the database does not exist, use the createDBOnSave option.\n",
    "disturbDF.select(\"properties\").write.format(\"org.apache.bahir.cloudant\").\n",
    "option(\"cloudant.host\",\"xxxxxxx.cloudant.com\").\n",
    "option(\"cloudant.username\",\"xxxxxxxx\").\n",
    "option(\"cloudant.password\",\"xxxxxxxx\").\n",
    "option(\"createDBOnSave\", \"true\").\n",
    "save(\"crimes_filtered\")"
   ]
  },
  {
   "cell_type": "code",
   "execution_count": null,
   "metadata": {
    "collapsed": true
   },
   "outputs": [],
   "source": []
  }
 ],
 "metadata": {
  "kernelspec": {
   "display_name": "Scala 2.11 with Spark 2.1",
   "language": "scala",
   "name": "scala-spark21"
  },
  "language_info": {
   "codemirror_mode": "text/x-scala",
   "file_extension": ".scala",
   "mimetype": "text/x-scala",
   "name": "scala",
   "pygments_lexer": "scala",
   "version": "2.11.8"
  }
 },
 "nbformat": 4,
 "nbformat_minor": 1
}
